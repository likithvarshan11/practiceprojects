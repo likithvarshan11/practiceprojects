{
  "nbformat": 4,
  "nbformat_minor": 0,
  "metadata": {
    "colab": {
      "provenance": [],
      "authorship_tag": "ABX9TyNwRGA9whSfeTiaNZ1raJF5",
      "include_colab_link": true
    },
    "kernelspec": {
      "name": "python3",
      "display_name": "Python 3"
    },
    "language_info": {
      "name": "python"
    }
  },
  "cells": [
    {
      "cell_type": "markdown",
      "metadata": {
        "id": "view-in-github",
        "colab_type": "text"
      },
      "source": [
        "<a href=\"https://colab.research.google.com/github/likithvarshan11/practiceprojects/blob/main/speedtest.ipynb\" target=\"_parent\"><img src=\"https://colab.research.google.com/assets/colab-badge.svg\" alt=\"Open In Colab\"/></a>"
      ]
    },
    {
      "cell_type": "code",
      "execution_count": 1,
      "metadata": {
        "colab": {
          "base_uri": "https://localhost:8080/"
        },
        "id": "c15Vh2Sd5o3Y",
        "outputId": "600d04c1-9d64-4e24-f414-592daa9330a1"
      },
      "outputs": [
        {
          "output_type": "stream",
          "name": "stdout",
          "text": [
            "Collecting speedtest-cli\n",
            "  Downloading speedtest_cli-2.1.3-py2.py3-none-any.whl.metadata (6.8 kB)\n",
            "Downloading speedtest_cli-2.1.3-py2.py3-none-any.whl (23 kB)\n",
            "Installing collected packages: speedtest-cli\n",
            "Successfully installed speedtest-cli-2.1.3\n"
          ]
        }
      ],
      "source": [
        "pip install speedtest-cli"
      ]
    },
    {
      "cell_type": "code",
      "source": [
        "import speedtest\n",
        "\n",
        "def check_speed():\n",
        "  spt=speedtest.Speedtest()\n",
        "  spt.get_best_server()\n",
        "\n",
        "  download_speed=spt.download() / 1_000_000\n",
        "  upload_speed=spt.upload() / 1_000_000\n",
        "\n",
        "  print(f\"download speed: {download_speed:.2f} Mbps\")\n",
        "  print(f\"upload speed: {upload_speed:.2f} Mbps\")\n",
        "\n",
        "check_speed()"
      ],
      "metadata": {
        "colab": {
          "base_uri": "https://localhost:8080/"
        },
        "id": "hQD55Ds-5uFa",
        "outputId": "34f48fe6-00ee-46e1-b604-6ac73bb6fb58"
      },
      "execution_count": 2,
      "outputs": [
        {
          "output_type": "stream",
          "name": "stdout",
          "text": [
            "download speed: 2969.45 Mbps\n",
            "upload speed: 600.36 Mbps\n"
          ]
        }
      ]
    }
  ]
}