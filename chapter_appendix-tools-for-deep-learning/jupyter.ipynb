{
  "cells": [
    {
      "cell_type": "markdown",
      "id": "31d9a4c9",
      "metadata": {
        "origin_pos": 0,
        "id": "31d9a4c9"
      },
      "source": []
    },
    {
      "cell_type": "code",
      "source": [
        "pip install speedtest-cli"
      ],
      "metadata": {
        "colab": {
          "base_uri": "https://localhost:8080/"
        },
        "id": "Op78fR5wwNue",
        "outputId": "7e22eae4-1bf1-4a7c-b999-135136329900"
      },
      "id": "Op78fR5wwNue",
      "execution_count": 4,
      "outputs": [
        {
          "output_type": "stream",
          "name": "stdout",
          "text": [
            "Requirement already satisfied: speedtest-cli in /usr/local/lib/python3.11/dist-packages (2.1.3)\n"
          ]
        }
      ]
    },
    {
      "cell_type": "code",
      "source": [
        "import speedtest\n",
        "\n",
        "def check_speed():\n",
        "  spt=speedtest.Speedtest()\n",
        "  spt.get_best_server()\n",
        "\n",
        "  download_speed=spt.download() / 1_000_000\n",
        "  upload_speed=spt.upload() / 1_000_000\n",
        "\n",
        "  print(f\"download speed: {download_speed:.2f} Mbps\")\n",
        "  print(f\"upload speed: {upload_speed:.2f} Mbps\")\n",
        "\n",
        "check_speed()"
      ],
      "metadata": {
        "colab": {
          "base_uri": "https://localhost:8080/"
        },
        "id": "DDZDIZaewT8x",
        "outputId": "603753d2-b5b6-4105-b109-dd5a396c8b06"
      },
      "id": "DDZDIZaewT8x",
      "execution_count": 6,
      "outputs": [
        {
          "output_type": "stream",
          "name": "stdout",
          "text": [
            "download speed: 3372.43 Mbps\n",
            "upload speed: 899.44 Mbps\n"
          ]
        }
      ]
    },
    {
      "cell_type": "code",
      "source": [],
      "metadata": {
        "id": "j9UHOoJZwgZ8"
      },
      "id": "j9UHOoJZwgZ8",
      "execution_count": 7,
      "outputs": []
    }
  ],
  "metadata": {
    "kernelspec": {
      "display_name": "Python 3",
      "name": "python3"
    },
    "language_info": {
      "name": "python"
    },
    "required_libs": [],
    "colab": {
      "provenance": []
    }
  },
  "nbformat": 4,
  "nbformat_minor": 5
}